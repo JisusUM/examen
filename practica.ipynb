{
 "cells": [
  {
   "cell_type": "code",
   "execution_count": null,
   "metadata": {},
   "outputs": [],
   "source": [
    "# Importe de librerias necesarias\n",
    "import numpy as np\n",
    "from math import factorial\n",
    "\n",
    "# Numeros a validar\n",
    "def capt_num():\n",
    "    n: int = int(input(\"Cantidad de elementos a validar\"))\n",
    "    if n <= 0:\n",
    "        print(\"Debe ser un numero mayor a 0\")\n",
    "        capt_num()\n",
    "    else:\n",
    "        num_list = np.random.randint(1, n, n)\n",
    "    return validacion(num_list)\n",
    "\n",
    "\n",
    "def validacion(num_list):\n",
    "    muestra: list = num_list\n",
    "    print(f\"A continuación se presenta la muestra a examinar: \\n{[muestra]}\")\n",
    "    for e in muestra:\n",
    "        if e < 0:\n",
    "            print(\"Factorial of negative e does not exist\")\n",
    "        elif e == 0:\n",
    "            return 1\n",
    "        else:\n",
    "            fact = 1\n",
    "            while(e > 1):\n",
    "                fact *= e\n",
    "                e -= 1\n",
    "            return fact\n",
    "    if fact % 2 != 0:\n",
    "        #% modulo estamos buscando si es par o impar\n",
    "        print(f\"El numero {e} es un numero inteligente\")\n",
    "    else:\n",
    "        print(f\"El numero {e} no un numero inteligente\")"
   ]
  },
  {
   "cell_type": "code",
   "execution_count": null,
   "metadata": {},
   "outputs": [],
   "source": [
    "import numpy as np\n",
    "\n",
    "cantidad = int(input(\"Ingrese la cantidad de elemntos\"))\n",
    "contador = 0\n",
    "\n",
    "arr = np.random.randint(1, 10, cantidad)\n",
    "\n",
    "print(arr)\n",
    "\n",
    "for i in arr:\n",
    "    contador = 0\n",
    "    for x in range(1, i):\n",
    "        if i%x==0:\n",
    "            contador+=1\n",
    "    if contador %2!=0:\n",
    "        print(f\"el numero {i}, no es inteligente\")\n",
    "    else:\n",
    "        print(f\"el numero {i}, si es inteligente\")"
   ]
  }
 ],
 "metadata": {
  "language_info": {
   "name": "python"
  },
  "orig_nbformat": 4
 },
 "nbformat": 4,
 "nbformat_minor": 2
}
